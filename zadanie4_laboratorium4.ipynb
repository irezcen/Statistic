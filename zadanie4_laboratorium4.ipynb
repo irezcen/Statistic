{
  "cells": [
    {
      "cell_type": "markdown",
      "metadata": {
        "id": "epeim-5BC-1h"
      },
      "source": [
        "TEST Welcha\n",
        "\n",
        "Test Welcha to wariant Anovy, który jest stosowany, gdy założenie o jednorodności wariancji nie jest spelnione.\n",
        "Wszystkie inne załozenia zwyklej Anovy i testu Welcha sa takie same i należy je sprawdzić przed wykonaniem analizy.\n",
        "\n",
        "welch_anova(data=None, dv=None, between=None)\n",
        "One-way Welch ANOVA.\n",
        "\n",
        "Parameters\n",
        "data datapandas.DataFrame Ramka danych\n",
        "\n",
        "dv= Nazwa kolumny zawierającej zmienną zależną.\n",
        "\n",
        "\n",
        "\n",
        "\n",
        "dvstring Nazwa kolumny zawierającej zmienną zależną.\n",
        "\n",
        "betweenstring Nazwa kolumny zawierającej współczynnik między.\n",
        "\n",
        "Wynik funkcji:\n",
        "ANOVA summary:\n",
        "\n",
        "'Source': Factor names\n",
        "\n",
        "'SS': Sums of squares\n",
        "\n",
        "'DF': Degrees of freedom\n",
        "\n",
        "'MS': Mean squares\n",
        "\n",
        "'F': F-values\n",
        "\n",
        "'p-unc': uncorrected p-values\n",
        "\n",
        "'np2': Partial eta-squared\n",
        "\n",
        "\n",
        "https://pingouin-stats.org/generated/pingouin.welch_anova.html"
      ]
    },
    {
      "cell_type": "code",
      "execution_count": 1,
      "metadata": {
        "colab": {
          "base_uri": "https://localhost:8080/"
        },
        "id": "jr4ooJgME4dZ",
        "outputId": "9c9cf15b-0500-499d-cba4-f3fec734d69e"
      },
      "outputs": [],
      "source": [
        "y1 = [3.79, 5.07, 3.02, 3.22, 3.08, 4.05, 3.13, 2.82]\n",
        "y2 = [3.12, 2.51, 3.85, 2.56, 4.49, 3.20, 3.41, 3.99]\n",
        "y3 = [4.76, 3.88, 6.84, 4.15, 2.78, 5.39, 6.41, 2.12]\n"
      ]
    },
    {
      "cell_type": "markdown",
      "metadata": {
        "id": "RRfRyZOZE4Tx"
      },
      "source": [
        "acznijmy od sprawdzenia założen.\n",
        "1. Mierzalnosc danych.\n",
        "\n",
        "Odp: Uznajemy, ze dane sa mierzalne. NIe znamy ich pochodzenia\n",
        "\n",
        "2. Niezależność zmiennych losowych w rozważanych populacjach (grupach).\n",
        "\n",
        "Odp: Podobnie jak wyzej. Mozemy uznac, ze zmienne sa niezalezne\n",
        "\n",
        "3. Normalnosc rozkladu danych.\n",
        "\n",
        "H0: dane podlegaja rozkładowi normalnemu\n",
        "H1: dane nie podlegaja rozkładowi normalnemu\n",
        "     \n",
        "         \n",
        "Odp: na poziomie ostotności 0,05 nie mamy podstaw do odrzucenia hipotezy zerowej\n",
        "\n",
        "4. Brak jednorodnosci wariancji (uwaga na odpowiednie sformulowanie hipotez)\n",
        "\n",
        "H0: wariancje są takie same\n",
        "H1: wariancje nie są takie same\n",
        "\n",
        "odp. Na poziomime istotności 0,05 odrzucamy hiotezę zerową i przyjmujemy hipotezę alternatywną, że próby nie mają jednakowej wariancji."
      ]
    },
    {
      "cell_type": "code",
      "execution_count": 2,
      "metadata": {},
      "outputs": [
        {
          "name": "stdout",
          "output_type": "stream",
          "text": [
            "['Shapiro-Wilk Test: stat=0.839, p=0.074047']\n",
            "normal\n",
            "\n",
            "['Shapiro-Wilk Test: stat=0.955, p=0.763858']\n",
            "normal\n",
            "\n",
            "['Shapiro-Wilk Test: stat=0.969, p=0.893356']\n",
            "normal\n",
            "\n"
          ]
        },
        {
          "data": {
            "text/plain": [
              "BartlettResult(statistic=6.5399391678445475, pvalue=0.03800758309919509)"
            ]
          },
          "execution_count": 2,
          "metadata": {},
          "output_type": "execute_result"
        }
      ],
      "source": [
        "from scipy.stats import shapiro\n",
        "data = y1\n",
        "stat, p =shapiro(data)\n",
        "print(['Shapiro-Wilk Test: stat=%.3f, p=%3f' %(stat,p)]) \n",
        "if p>0.05: print('normal\\n') \n",
        "else: print('not normal\\n')\n",
        "\n",
        "data = y2\n",
        "stat, p =shapiro(data)\n",
        "print(['Shapiro-Wilk Test: stat=%.3f, p=%3f' %(stat,p)]) \n",
        "if p>0.05: print('normal\\n') \n",
        "else: print('not normal\\n')\n",
        "\n",
        "data = y3\n",
        "stat, p =shapiro(data)\n",
        "print(['Shapiro-Wilk Test: stat=%.3f, p=%3f' %(stat,p)]) \n",
        "if p>0.05: print('normal\\n') \n",
        "else: print('not normal\\n')\n",
        "\n",
        "import scipy\n",
        "from scipy.stats import bartlett\n",
        "scipy.stats.bartlett(y1, y2, y3)"
      ]
    },
    {
      "cell_type": "markdown",
      "metadata": {
        "id": "O5uWM_DMHAs5"
      },
      "source": [
        "Odp:\n",
        "\n",
        "Jezeli wszystkie założenia sa spelnione, możemy przejść do wykonania testu Welcha.\n",
        "\n",
        "H0: średnie we wszystkich grupach sa takie same.\n",
        "H1: średnie we wszystkich grupach nie są takie same.\n",
        "\n",
        "Jakie sa wnioski z przeprowdzonego testu? Czy patrząc na wartosci srednie wyliczone z prob podjelibysmy taka sama decyzje co do ich rownosci?\n",
        "Odp:"
      ]
    },
    {
      "cell_type": "code",
      "execution_count": null,
      "metadata": {
        "colab": {
          "base_uri": "https://localhost:8080/"
        },
        "id": "STtmkE9NHo9_",
        "outputId": "9c82ed6c-1f08-4efb-a941-f1b568da9e55"
      },
      "outputs": [],
      "source": []
    },
    {
      "cell_type": "markdown",
      "metadata": {
        "id": "4hXsT4_DHqWw"
      },
      "source": []
    },
    {
      "cell_type": "code",
      "execution_count": 3,
      "metadata": {
        "id": "MQvwx-J3H7rp"
      },
      "outputs": [
        {
          "name": "stderr",
          "output_type": "stream",
          "text": [
            "C:\\Users\\jakub\\AppData\\Local\\Temp\\ipykernel_6988\\2083493433.py:13: FutureWarning: The frame.append method is deprecated and will be removed from pandas in a future version. Use pandas.concat instead.\n",
            "  df= df1.append(df2, ignore_index=True)\n",
            "C:\\Users\\jakub\\AppData\\Local\\Temp\\ipykernel_6988\\2083493433.py:14: FutureWarning: The frame.append method is deprecated and will be removed from pandas in a future version. Use pandas.concat instead.\n",
            "  df= df.append(df3, ignore_index=True)\n"
          ]
        }
      ],
      "source": [
        "#import pingouin as pg\n",
        "import pandas as pd\n",
        "import numpy as np\n",
        "\n",
        "#create DataFrame\n",
        "\n",
        "df1 = pd.DataFrame({'score': [3.79, 5.07, 3.02, 3.22, 3.08, 4.05, 3.13, 2.82],\n",
        "                   'group': np.repeat(['a'], repeats=8)})\n",
        "df2 = pd.DataFrame({'score': [3.12, 2.51, 3.85, 2.56, 4.49, 3.20, 3.41, 3.99],\n",
        "                   'group': np.repeat(['b'], repeats=8)})\n",
        "df3 = pd.DataFrame({'score': [4.76, 3.88, 6.84, 4.15, 2.78, 5.39, 6.41, 2.12],\n",
        "                   'group': np.repeat(['c'], repeats=8)})\n",
        "df= df1.append(df2, ignore_index=True)\n",
        "df= df.append(df3, ignore_index=True)"
      ]
    },
    {
      "cell_type": "code",
      "execution_count": 4,
      "metadata": {
        "colab": {
          "base_uri": "https://localhost:8080/",
          "height": 81
        },
        "id": "TM1uj0zxLRmz",
        "outputId": "ad73f497-e35b-4e5b-ac0e-775ccd502c21"
      },
      "outputs": [
        {
          "data": {
            "text/html": [
              "<div>\n",
              "<style scoped>\n",
              "    .dataframe tbody tr th:only-of-type {\n",
              "        vertical-align: middle;\n",
              "    }\n",
              "\n",
              "    .dataframe tbody tr th {\n",
              "        vertical-align: top;\n",
              "    }\n",
              "\n",
              "    .dataframe thead th {\n",
              "        text-align: right;\n",
              "    }\n",
              "</style>\n",
              "<table border=\"1\" class=\"dataframe\">\n",
              "  <thead>\n",
              "    <tr style=\"text-align: right;\">\n",
              "      <th></th>\n",
              "      <th>Source</th>\n",
              "      <th>ddof1</th>\n",
              "      <th>ddof2</th>\n",
              "      <th>F</th>\n",
              "      <th>p-unc</th>\n",
              "      <th>np2</th>\n",
              "    </tr>\n",
              "  </thead>\n",
              "  <tbody>\n",
              "    <tr>\n",
              "      <th>0</th>\n",
              "      <td>group</td>\n",
              "      <td>2</td>\n",
              "      <td>13.078353</td>\n",
              "      <td>1.575632</td>\n",
              "      <td>0.243735</td>\n",
              "      <td>0.193737</td>\n",
              "    </tr>\n",
              "  </tbody>\n",
              "</table>\n",
              "</div>"
            ],
            "text/plain": [
              "  Source  ddof1      ddof2         F     p-unc       np2\n",
              "0  group      2  13.078353  1.575632  0.243735  0.193737"
            ]
          },
          "execution_count": 4,
          "metadata": {},
          "output_type": "execute_result"
        }
      ],
      "source": [
        "import pingouin as pg\n",
        "import pandas as pd\n",
        "import numpy as np\n",
        "\n",
        "pg.welch_anova(dv='score', between='group', data=df)"
      ]
    },
    {
      "cell_type": "markdown",
      "metadata": {
        "id": "OWoJs2YbHLqR"
      },
      "source": [
        "Całkowita wartość p (0,243735) z tabeli ANOVA jest większa niż α = 0,05, co oznacza, że nie ma podstaw do odrzucenia H0\n",
        "\n",
        "Dodatek\n",
        "\n",
        "Następnie możemy wykonać test post hoc Games-Howell, aby dokładnie określić, które średnie grupowe są różne: "
      ]
    },
    {
      "cell_type": "code",
      "execution_count": 5,
      "metadata": {
        "colab": {
          "base_uri": "https://localhost:8080/",
          "height": 143
        },
        "id": "FaRJ0tDEQXYc",
        "outputId": "1cd8ff6f-81d4-4734-ab8a-e8dd541a286f"
      },
      "outputs": [
        {
          "data": {
            "text/html": [
              "<div>\n",
              "<style scoped>\n",
              "    .dataframe tbody tr th:only-of-type {\n",
              "        vertical-align: middle;\n",
              "    }\n",
              "\n",
              "    .dataframe tbody tr th {\n",
              "        vertical-align: top;\n",
              "    }\n",
              "\n",
              "    .dataframe thead th {\n",
              "        text-align: right;\n",
              "    }\n",
              "</style>\n",
              "<table border=\"1\" class=\"dataframe\">\n",
              "  <thead>\n",
              "    <tr style=\"text-align: right;\">\n",
              "      <th></th>\n",
              "      <th>A</th>\n",
              "      <th>B</th>\n",
              "      <th>mean(A)</th>\n",
              "      <th>mean(B)</th>\n",
              "      <th>diff</th>\n",
              "      <th>se</th>\n",
              "      <th>T</th>\n",
              "      <th>df</th>\n",
              "      <th>pval</th>\n",
              "      <th>hedges</th>\n",
              "    </tr>\n",
              "  </thead>\n",
              "  <tbody>\n",
              "    <tr>\n",
              "      <th>0</th>\n",
              "      <td>a</td>\n",
              "      <td>b</td>\n",
              "      <td>3.52250</td>\n",
              "      <td>3.39125</td>\n",
              "      <td>0.13125</td>\n",
              "      <td>0.360710</td>\n",
              "      <td>0.363866</td>\n",
              "      <td>13.912552</td>\n",
              "      <td>0.929980</td>\n",
              "      <td>0.172009</td>\n",
              "    </tr>\n",
              "    <tr>\n",
              "      <th>1</th>\n",
              "      <td>a</td>\n",
              "      <td>c</td>\n",
              "      <td>3.52250</td>\n",
              "      <td>4.54125</td>\n",
              "      <td>-1.01875</td>\n",
              "      <td>0.641308</td>\n",
              "      <td>-1.588551</td>\n",
              "      <td>9.764953</td>\n",
              "      <td>0.295553</td>\n",
              "      <td>-0.750951</td>\n",
              "    </tr>\n",
              "    <tr>\n",
              "      <th>2</th>\n",
              "      <td>b</td>\n",
              "      <td>c</td>\n",
              "      <td>3.39125</td>\n",
              "      <td>4.54125</td>\n",
              "      <td>-1.15000</td>\n",
              "      <td>0.633214</td>\n",
              "      <td>-1.816131</td>\n",
              "      <td>9.385141</td>\n",
              "      <td>0.216702</td>\n",
              "      <td>-0.858535</td>\n",
              "    </tr>\n",
              "  </tbody>\n",
              "</table>\n",
              "</div>"
            ],
            "text/plain": [
              "   A  B  mean(A)  mean(B)     diff        se         T         df      pval  \\\n",
              "0  a  b  3.52250  3.39125  0.13125  0.360710  0.363866  13.912552  0.929980   \n",
              "1  a  c  3.52250  4.54125 -1.01875  0.641308 -1.588551   9.764953  0.295553   \n",
              "2  b  c  3.39125  4.54125 -1.15000  0.633214 -1.816131   9.385141  0.216702   \n",
              "\n",
              "     hedges  \n",
              "0  0.172009  \n",
              "1 -0.750951  \n",
              "2 -0.858535  "
            ]
          },
          "execution_count": 5,
          "metadata": {},
          "output_type": "execute_result"
        }
      ],
      "source": [
        "pg.pairwise_gameshowell(dv='score', between='group', data=df)"
      ]
    },
    {
      "cell_type": "markdown",
      "metadata": {
        "id": "9Yh4csx_QZsa"
      },
      "source": [
        "Z wartości p widzimy, że średnie  między grupami a i b sa stosunkowo małe w porównaniu do różnic pomiędzy grupami a, c i c,b"
      ]
    }
  ],
  "metadata": {
    "colab": {
      "name": "zadanie4_laboratorium4.ipynb",
      "provenance": []
    },
    "kernelspec": {
      "display_name": "Python 3",
      "name": "python3"
    },
    "language_info": {
      "codemirror_mode": {
        "name": "ipython",
        "version": 3
      },
      "file_extension": ".py",
      "mimetype": "text/x-python",
      "name": "python",
      "nbconvert_exporter": "python",
      "pygments_lexer": "ipython3",
      "version": "3.10.2"
    }
  },
  "nbformat": 4,
  "nbformat_minor": 0
}
