{
 "cells": [
  {
   "cell_type": "markdown",
   "metadata": {},
   "source": [
    "Dla porównywania średniej metodą warianji:\n",
    "-sprawdzamy, czy cecha jest mierzalna, czyli, czy można jej przypisac wartość liczbową, któa ma znaczenie. TAK\n",
    "-sprawdzamy, czy zmienne są zależne. Np. czy zostały wykonane na tej samej grupie i po jakimś treningu. NIE\n",
    "-sprawdzamy, czy próby są równoliczne TAK-ANOVA NIE-Kruskala_Wallisa\n",
    "-czy próba podlega rozkładowi normalnemu: H0: Wszystkie podlegają H1: Chociaż jedna nie podlega H0->ANOVA H1->Kruskalla_Wallisa\n",
    "-czy wariancje w próbach są jednakowe? H0: wariancje we wszystkich próbach są jednakowe H1: Przynajmniej jedna wariancja różni sie od reszty H0->ANOVA H1->Welch\n",
    "-Przeprowadzamy test(ANOVA, WELCH->różne wariancje, WALLIS->nierówne próbki, brak rozkładu normalnego)\n",
    "-Przeprowadzamy testy Post-Hoc i interpretujemy wyniki."
   ]
  },
  {
   "cell_type": "code",
   "execution_count": 120,
   "metadata": {},
   "outputs": [
    {
     "name": "stderr",
     "output_type": "stream",
     "text": [
      "C:\\Users\\jakub\\AppData\\Local\\Temp\\ipykernel_9132\\1337407548.py:24: FutureWarning: The frame.append method is deprecated and will be removed from pandas in a future version. Use pandas.concat instead.\n",
      "  dane_z_opisami = dane_z_opisami.append(daneB)\n",
      "C:\\Users\\jakub\\AppData\\Local\\Temp\\ipykernel_9132\\1337407548.py:25: FutureWarning: The frame.append method is deprecated and will be removed from pandas in a future version. Use pandas.concat instead.\n",
      "  dane_z_opisami = dane_z_opisami.append(daneC)\n"
     ]
    }
   ],
   "source": [
    "# bliblioteki\n",
    "from scipy.stats import shapiro\n",
    "from scipy.stats import bartlett\n",
    "from scipy.stats import kruskal\n",
    "from scipy.stats import f_oneway\n",
    "from statsmodels.stats.multicomp import pairwise_tukeyhsd\n",
    "import pandas as pd\n",
    "from pingouin import welch_anova\n",
    "from pingouin import pairwise_gameshowell\n",
    "import numpy as np\n",
    "import matplotlib.pyplot as plt\n",
    "\n",
    "#Tu wstaw dane\n",
    "data = [[1, 5, 7], [4, 8, 3], [2, 5, 3], [1, 4, 5]]\n",
    "alpha = 0.05\n",
    "dane = pd.DataFrame(data)\n",
    "dane.columns =['A','B','C']\n",
    "\n",
    "daneA = pd.DataFrame({'dane':dane['A'],'grupa': np.repeat(['A'], repeats=len(dane['A']))})\n",
    "daneB = pd.DataFrame({'dane':dane['B'],'grupa': np.repeat(['B'], repeats=len(dane['B']))})\n",
    "daneC = pd.DataFrame({'dane':dane['C'],'grupa': np.repeat(['C'], repeats=len(dane['C']))})\n",
    "\n",
    "dane_z_opisami = daneA\n",
    "dane_z_opisami = dane_z_opisami.append(daneB)\n",
    "dane_z_opisami = dane_z_opisami.append(daneC)\n"
   ]
  },
  {
   "cell_type": "markdown",
   "metadata": {},
   "source": [
    "Testy normalności:\n",
    "H0: Wszystkie próby pochodzą z populacji o rozkładzie normalnym\n",
    "H1: Nie wszystkie próby pochodzą z populacji o rozkładzie normalnym"
   ]
  },
  {
   "cell_type": "code",
   "execution_count": 121,
   "metadata": {},
   "outputs": [
    {
     "name": "stdout",
     "output_type": "stream",
     "text": [
      "['Shapiro-Wilk Test: stat=0.827, p=0.161190']\n",
      "próba pochodzi z populacji orozkładzie normalnym\n",
      "\n",
      "['Shapiro-Wilk Test: stat=0.840, p=0.194534']\n",
      "próba pochodzi z populacji orozkładzie normalnym\n",
      "\n",
      "['Shapiro-Wilk Test: stat=0.863, p=0.272453']\n",
      "próba pochodzi z populacji orozkładzie normalnym\n",
      "\n"
     ]
    }
   ],
   "source": [
    "# Testy normalności\n",
    "\n",
    "data = dane['A']\n",
    "stat, p =shapiro(data)\n",
    "print(['Shapiro-Wilk Test: stat=%.3f, p=%3f' %(stat,p)]) \n",
    "if p>0.05: print('próba pochodzi z populacji o rozkładzie normalnym\\n') \n",
    "else: print('próba nie pochodzi z populacji o rozkładzie normalnym\\n')\n",
    "\n",
    "data = dane['B']\n",
    "stat, p =shapiro(data)\n",
    "print(['Shapiro-Wilk Test: stat=%.3f, p=%3f' %(stat,p)]) \n",
    "if p>0.05: print('próba pochodzi z populacji o rozkładzie normalnym\\n') \n",
    "else: print('próba nie pochodzi z populacji o rozkładzie normalnym\\n')\n",
    "\n",
    "data = dane['C']\n",
    "stat, p =shapiro(data)\n",
    "print(['Shapiro-Wilk Test: stat=%.3f, p=%3f' %(stat,p)]) \n",
    "if p>0.05: print('próba pochodzi z populacji o rozkładzie normalnym\\n') \n",
    "else: print('próba nie pochodzi z populacji o rozkładzie normalnym\\n')"
   ]
  },
  {
   "cell_type": "markdown",
   "metadata": {},
   "source": [
    "Wniosek dla rozkładu normalnego:"
   ]
  },
  {
   "cell_type": "markdown",
   "metadata": {},
   "source": [
    "Testy wariancji:\n",
    "H0: próby posiadają jednakowe wariancje\n",
    "H1: Nie wszystkie próby posiadają jednakowe wariancje"
   ]
  },
  {
   "cell_type": "code",
   "execution_count": 122,
   "metadata": {},
   "outputs": [
    {
     "data": {
      "text/plain": [
       "BartlettResult(statistic=0.23927250724177998, pvalue=0.8872431094965418)"
      ]
     },
     "execution_count": 122,
     "metadata": {},
     "output_type": "execute_result"
    }
   ],
   "source": [
    "# Testy wariancji\n",
    "bartlett(dane['A'], dane['B'], dane['C'])"
   ]
  },
  {
   "cell_type": "markdown",
   "metadata": {},
   "source": [
    "Wniosek dla równości wariancji:"
   ]
  },
  {
   "cell_type": "code",
   "execution_count": 123,
   "metadata": {},
   "outputs": [
    {
     "name": "stdout",
     "output_type": "stream",
     "text": [
      "Statystyka f: stat=4.500, wartość: p=0.044194\n"
     ]
    }
   ],
   "source": [
    "# TEST ANOVA, gdy wszystkie założenia są spełnione\n",
    "f, p = f_oneway(dane['A'], dane['B'], dane['C'])\n",
    "print('Statystyka f: stat=%.3f, wartość: p=%3f' %(f, p))"
   ]
  },
  {
   "cell_type": "markdown",
   "metadata": {},
   "source": [
    "Interpretacja dla ANOVY:"
   ]
  },
  {
   "cell_type": "code",
   "execution_count": 124,
   "metadata": {},
   "outputs": [
    {
     "data": {
      "text/html": [
       "<div>\n",
       "<style scoped>\n",
       "    .dataframe tbody tr th:only-of-type {\n",
       "        vertical-align: middle;\n",
       "    }\n",
       "\n",
       "    .dataframe tbody tr th {\n",
       "        vertical-align: top;\n",
       "    }\n",
       "\n",
       "    .dataframe thead th {\n",
       "        text-align: right;\n",
       "    }\n",
       "</style>\n",
       "<table border=\"1\" class=\"dataframe\">\n",
       "  <thead>\n",
       "    <tr style=\"text-align: right;\">\n",
       "      <th></th>\n",
       "      <th>Source</th>\n",
       "      <th>ddof1</th>\n",
       "      <th>ddof2</th>\n",
       "      <th>F</th>\n",
       "      <th>p-unc</th>\n",
       "      <th>np2</th>\n",
       "    </tr>\n",
       "  </thead>\n",
       "  <tbody>\n",
       "    <tr>\n",
       "      <th>0</th>\n",
       "      <td>grupa</td>\n",
       "      <td>2</td>\n",
       "      <td>5.899806</td>\n",
       "      <td>4.849299</td>\n",
       "      <td>0.05681</td>\n",
       "      <td>0.5</td>\n",
       "    </tr>\n",
       "  </tbody>\n",
       "</table>\n",
       "</div>"
      ],
      "text/plain": [
       "  Source  ddof1     ddof2         F    p-unc  np2\n",
       "0  grupa      2  5.899806  4.849299  0.05681  0.5"
      ]
     },
     "execution_count": 124,
     "metadata": {},
     "output_type": "execute_result"
    }
   ],
   "source": [
    "# TEST WELCHA, gdy wariancje nie są równe\n",
    "\n",
    "welch_anova(data=dane_z_opisami, dv='dane', between='grupa')"
   ]
  },
  {
   "cell_type": "markdown",
   "metadata": {},
   "source": [
    "Interpretacja dla Welcha:"
   ]
  },
  {
   "cell_type": "code",
   "execution_count": 125,
   "metadata": {},
   "outputs": [
    {
     "data": {
      "text/plain": [
       "KruskalResult(statistic=5.9435483870967785, pvalue=0.051212369027310294)"
      ]
     },
     "execution_count": 125,
     "metadata": {},
     "output_type": "execute_result"
    }
   ],
   "source": [
    "# TEST KRUSKALA, gdy \n",
    "kruskal(dane['A'], dane['B'], dane['C'])"
   ]
  },
  {
   "cell_type": "markdown",
   "metadata": {},
   "source": [
    "Interpretacja dla Kruskala:"
   ]
  },
  {
   "cell_type": "code",
   "execution_count": 126,
   "metadata": {},
   "outputs": [
    {
     "name": "stdout",
     "output_type": "stream",
     "text": [
      "Multiple Comparison of Means - Tukey HSD, FWER=0.05\n",
      "===================================================\n",
      "group1 group2 meandiff p-adj   lower  upper  reject\n",
      "---------------------------------------------------\n",
      "     A      B      3.5 0.0415  0.1444 6.8556   True\n",
      "     A      C      2.5 0.1491 -0.8556 5.8556  False\n",
      "     B      C     -1.0 0.6936 -4.3556 2.3556  False\n",
      "---------------------------------------------------\n"
     ]
    },
    {
     "data": {
      "text/html": [
       "<div>\n",
       "<style scoped>\n",
       "    .dataframe tbody tr th:only-of-type {\n",
       "        vertical-align: middle;\n",
       "    }\n",
       "\n",
       "    .dataframe tbody tr th {\n",
       "        vertical-align: top;\n",
       "    }\n",
       "\n",
       "    .dataframe thead th {\n",
       "        text-align: right;\n",
       "    }\n",
       "</style>\n",
       "<table border=\"1\" class=\"dataframe\">\n",
       "  <thead>\n",
       "    <tr style=\"text-align: right;\">\n",
       "      <th></th>\n",
       "      <th>A</th>\n",
       "      <th>B</th>\n",
       "      <th>mean(A)</th>\n",
       "      <th>mean(B)</th>\n",
       "      <th>diff</th>\n",
       "      <th>se</th>\n",
       "      <th>T</th>\n",
       "      <th>df</th>\n",
       "      <th>pval</th>\n",
       "      <th>hedges</th>\n",
       "    </tr>\n",
       "  </thead>\n",
       "  <tbody>\n",
       "    <tr>\n",
       "      <th>0</th>\n",
       "      <td>A</td>\n",
       "      <td>B</td>\n",
       "      <td>2.0</td>\n",
       "      <td>5.5</td>\n",
       "      <td>-3.5</td>\n",
       "      <td>1.118034</td>\n",
       "      <td>-3.130495</td>\n",
       "      <td>5.769231</td>\n",
       "      <td>0.048449</td>\n",
       "      <td>-1.924865</td>\n",
       "    </tr>\n",
       "    <tr>\n",
       "      <th>1</th>\n",
       "      <td>A</td>\n",
       "      <td>C</td>\n",
       "      <td>2.0</td>\n",
       "      <td>4.5</td>\n",
       "      <td>-2.5</td>\n",
       "      <td>1.190238</td>\n",
       "      <td>-2.100420</td>\n",
       "      <td>5.522293</td>\n",
       "      <td>0.176216</td>\n",
       "      <td>-1.291497</td>\n",
       "    </tr>\n",
       "    <tr>\n",
       "      <th>2</th>\n",
       "      <td>B</td>\n",
       "      <td>C</td>\n",
       "      <td>5.5</td>\n",
       "      <td>4.5</td>\n",
       "      <td>1.0</td>\n",
       "      <td>1.290994</td>\n",
       "      <td>0.774597</td>\n",
       "      <td>5.940594</td>\n",
       "      <td>0.731110</td>\n",
       "      <td>0.476280</td>\n",
       "    </tr>\n",
       "  </tbody>\n",
       "</table>\n",
       "</div>"
      ],
      "text/plain": [
       "   A  B  mean(A)  mean(B)  diff        se         T        df      pval  \\\n",
       "0  A  B      2.0      5.5  -3.5  1.118034 -3.130495  5.769231  0.048449   \n",
       "1  A  C      2.0      4.5  -2.5  1.190238 -2.100420  5.522293  0.176216   \n",
       "2  B  C      5.5      4.5   1.0  1.290994  0.774597  5.940594  0.731110   \n",
       "\n",
       "     hedges  \n",
       "0 -1.924865  \n",
       "1 -1.291497  \n",
       "2  0.476280  "
      ]
     },
     "execution_count": 126,
     "metadata": {},
     "output_type": "execute_result"
    },
    {
     "data": {
      "image/png": "[encoded data removed]",
      "text/plain": [
       "<Figure size 504x432 with 1 Axes>"
      ]
     },
     "metadata": {
      "needs_background": "light"
     },
     "output_type": "display_data"
    }
   ],
   "source": [
    "# Testy Post Hoc i Wykresy dla przejrzystości\n",
    "tukey = pairwise_tukeyhsd(endog=dane_z_opisami['dane'], groups=dane_z_opisami['grupa'], alpha=alpha)\n",
    "print(tukey)\n",
    "fig = plt.figure()\n",
    "ax = fig.add_subplot(1,1,1)\n",
    "tukey.plot_simultaneous(ax=ax,figsize=(7, 6)) \n",
    "fig.tight_layout()\n",
    "\n",
    "pairwise_gameshowell(dv='dane', between='grupa', data=dane_z_opisami)"
   ]
  },
  {
   "cell_type": "markdown",
   "metadata": {},
   "source": [
    "Ostateczna interpretacja:"
   ]
  }
 ],
 "metadata": {
  "interpreter": {
   "hash": "c98a339f9adf004320c564164355c731f56b5dbb99adf5e764dd0b19c2a0d1e9"
  },
  "kernelspec": {
   "display_name": "Python 3.10.2 64-bit",
   "language": "python",
   "name": "python3"
  },
  "language_info": {
   "codemirror_mode": {
    "name": "ipython",
    "version": 3
   },
   "file_extension": ".py",
   "mimetype": "text/x-python",
   "name": "python",
   "nbconvert_exporter": "python",
   "pygments_lexer": "ipython3",
   "version": "3.10.2"
  },
  "orig_nbformat": 4
 },
 "nbformat": 4,
 "nbformat_minor": 2
}
