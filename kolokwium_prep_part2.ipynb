{
 "cells": [
  {
   "cell_type": "markdown",
   "metadata": {},
   "source": [
    "Dla stawianiu hipotez o wartościach danej próby:\n",
    "-sprawdzamy normalność H0: Próba pochodzi z populacji o rozkłądzie normalnym H1: Próba nie pochodzi z populacji o rozkłądzie normalnym\n",
    "-stawiamy hipoteże na temat badanej statystyki H0: a = b H1: a!=b lub a>b lub a<b\n",
    "-obliczamy statystykę i obszary krytyczne\n",
    "-obliczamy wartość p\n",
    "-stawiamy wnioski dla obszarów krytycznych i wartości p\n",
    "-sprawdzamy moc testu i podajemy minimalną liczebność próby"
   ]
  },
  {
   "cell_type": "code",
   "execution_count": 197,
   "metadata": {},
   "outputs": [],
   "source": [
    "# bliblioteki\n",
    "from scipy.stats import shapiro\n",
    "from scipy.stats import t\n",
    "from scipy.stats import chi2\n",
    "from scipy.stats import norm\n",
    "import numpy as np\n",
    "import math\n",
    "from statsmodels.stats.weightstats import ztest\n",
    "from statsmodels.stats.power import zt_ind_solve_power\n",
    "\n",
    "#Tu wstaw dane\n",
    "dane = [14,15,15.25,15,15,20,13.25,13,13,13,15]\n",
    "alpha = 0.05\n",
    "x_SR=np.mean(dane)\n",
    "sigma=np.std(dane, ddof=1)\n",
    "var = np.var(dane, ddof=1)\n",
    "n = len(dane)\n",
    "m0 = 14"
   ]
  },
  {
   "cell_type": "code",
   "execution_count": 198,
   "metadata": {},
   "outputs": [
    {
     "name": "stdout",
     "output_type": "stream",
     "text": [
      "['Shapiro-Wilk Test: stat=0.739, p=0.001506']\n",
      "próba nie pochodzi z populacji o rozkładzie normalnym\n",
      "\n"
     ]
    }
   ],
   "source": [
    "# Testy normalności\n",
    "\n",
    "data = dane\n",
    "stat, p =shapiro(data)\n",
    "print(['Shapiro-Wilk Test: stat=%.3f, p=%3f' %(stat,p)]) \n",
    "if p>alpha: print('próba pochodzi z populacji o rozkładzie normalnym\\n') \n",
    "else: print('próba nie pochodzi z populacji o rozkładzie normalnym\\n')"
   ]
  },
  {
   "cell_type": "markdown",
   "metadata": {},
   "source": [
    "Stawiamy hipotezę na temat naszej próby:\n",
    "H0:\n",
    "H1"
   ]
  },
  {
   "cell_type": "code",
   "execution_count": 199,
   "metadata": {},
   "outputs": [
    {
     "name": "stdout",
     "output_type": "stream",
     "text": [
      "1.1305069701936148\n",
      "[-1.9599639845400545, 1.959963984540054]\n",
      "[-2.2281388519649385, 2.2281388519649385]\n",
      "[3.2469727802368413, 20.483177350807388]\n"
     ]
    }
   ],
   "source": [
    "# statystyka i obszary krytyczne\n",
    "\n",
    "f_value = ((x_SR-m0)/sigma)*math.sqrt(n)\n",
    "print(f_value)\n",
    "\n",
    "#obszary krytyczne\n",
    "#z rozkladem normalnym\n",
    "obszar1, obszar2=[norm.ppf(alpha/2) , norm.ppf(1-alpha/2)]\n",
    "print([obszar1, obszar2])\n",
    "#z rozkladem t studenta\n",
    "obszar1, obszar2=[t.ppf(alpha/2, n-1) , t.ppf(1-alpha/2, n-1)]\n",
    "print([obszar1, obszar2])\n",
    "#z rozkladem chi2\n",
    "obszar1, obszar2=[chi2.ppf(alpha/2, n-1) , chi2.ppf(1-alpha/2, n-1)]\n",
    "print([obszar1, obszar2])"
   ]
  },
  {
   "cell_type": "markdown",
   "metadata": {},
   "source": [
    "Wnioski na podstawie obszarów krytycznych:"
   ]
  },
  {
   "cell_type": "code",
   "execution_count": 200,
   "metadata": {},
   "outputs": [
    {
     "name": "stdout",
     "output_type": "stream",
     "text": [
      "0.2582626630772502\n",
      "['wartość p=', 0.2582626630772502, ' statystyka=', 1.1305069701936148]\n"
     ]
    }
   ],
   "source": [
    "# obliczanie wartości p\n",
    "# proszę wyliczyć wartość p\n",
    "\n",
    "p = 2*(1-norm.cdf(f_value))\n",
    "print(p)\n",
    "\n",
    "ztest_Score, p_value= ztest(dane, value = m0, alternative='two-sided')\n",
    "print([ 'wartość p=', p_value,' statystyka=', ztest_Score ])"
   ]
  },
  {
   "cell_type": "markdown",
   "metadata": {},
   "source": [
    "Wnioski na podstawie wartości p:"
   ]
  },
  {
   "cell_type": "code",
   "execution_count": 201,
   "metadata": {},
   "outputs": [
    {
     "name": "stdout",
     "output_type": "stream",
     "text": [
      "Moc testu: 0.126\n",
      "wielkość próby: 135.070\n"
     ]
    }
   ],
   "source": [
    "# moc testu\n",
    "std_effect=abs((x_SR-m0)/2)\n",
    "power=zt_ind_solve_power(effect_size = std_effect, nobs1=n, alpha=alpha, power=None)\n",
    "print('Moc testu: %.3f' %(power))\n",
    "nobs1=zt_ind_solve_power(effect_size = std_effect, nobs1=None, alpha=alpha, power=.8)\n",
    "print('wielkość próby: %.3f' %(nobs1))"
   ]
  },
  {
   "cell_type": "markdown",
   "metadata": {},
   "source": [
    "Wnioski końcowe:\n"
   ]
  }
 ],
 "metadata": {
  "interpreter": {
   "hash": "c98a339f9adf004320c564164355c731f56b5dbb99adf5e764dd0b19c2a0d1e9"
  },
  "kernelspec": {
   "display_name": "Python 3.10.2 64-bit",
   "language": "python",
   "name": "python3"
  },
  "language_info": {
   "codemirror_mode": {
    "name": "ipython",
    "version": 3
   },
   "file_extension": ".py",
   "mimetype": "text/x-python",
   "name": "python",
   "nbconvert_exporter": "python",
   "pygments_lexer": "ipython3",
   "version": "3.10.2"
  },
  "orig_nbformat": 4
 },
 "nbformat": 4,
 "nbformat_minor": 2
}
