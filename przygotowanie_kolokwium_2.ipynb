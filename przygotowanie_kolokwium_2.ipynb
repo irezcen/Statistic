{
 "cells": [
  {
   "cell_type": "code",
   "execution_count": 11,
   "metadata": {},
   "outputs": [],
   "source": [
    "#biblioteki\n",
    "import numpy as np\n",
    "import matplotlib.pyplot as plt\n",
    "import statsmodels.api as sm\n",
    "import pandas as pd # data processing, CSV file I/O (e.g. pd.read_csv)\n",
    "from scipy import stats\n",
    "from pandas.plotting import scatter_matrix\n",
    "import seaborn as sns\n",
    "import pingouin as pg\n",
    "from scipy.stats import shapiro"
   ]
  },
  {
   "cell_type": "code",
   "execution_count": 12,
   "metadata": {},
   "outputs": [],
   "source": [
    "#jak połaczyć dane:\n",
    "grupa = ['B', 'C', 'B', 'A', 'C', 'B', 'B', 'B', 'C', 'B', 'C', 'B', 'B', 'A', 'A', 'C', 'C', 'B', 'C']\n",
    "wynik = [4,\t5,\t5,\t3,\t4.5,\t4,\t5,\t2,\t3.5,\t3.5,\t3,\t3,\t4.5,\t4,\t3,\t4,\t4.5,\t3,\t2]\n",
    "data = pd.DataFrame({'grupa':grupa, 'wynik':wynik})"
   ]
  },
  {
   "cell_type": "code",
   "execution_count": 13,
   "metadata": {},
   "outputs": [
    {
     "name": "stdout",
     "output_type": "stream",
     "text": [
      "                            OLS Regression Results                            \n",
      "==============================================================================\n",
      "Dep. Variable:                      y   R-squared:                       0.692\n",
      "Model:                            OLS   Adj. R-squared:                  0.654\n",
      "Method:                 Least Squares   F-statistic:                     18.00\n",
      "Date:                Wed, 11 May 2022   Prob (F-statistic):            0.00283\n",
      "Time:                        08:30:38   Log-Likelihood:                 28.722\n",
      "No. Observations:                  10   AIC:                            -53.44\n",
      "Df Residuals:                       8   BIC:                            -52.84\n",
      "Df Model:                           1                                         \n",
      "Covariance Type:            nonrobust                                         \n",
      "==============================================================================\n",
      "                 coef    std err          t      P>|t|      [0.025      0.975]\n",
      "------------------------------------------------------------------------------\n",
      "const          1.5687      0.036     43.868      0.000       1.486       1.651\n",
      "x1             0.0467      0.011      4.242      0.003       0.021       0.072\n",
      "==============================================================================\n",
      "Omnibus:                        9.626   Durbin-Watson:                   2.105\n",
      "Prob(Omnibus):                  0.008   Jarque-Bera (JB):                4.039\n",
      "Skew:                          -1.357   Prob(JB):                        0.133\n",
      "Kurtosis:                       4.527   Cond. No.                         26.2\n",
      "==============================================================================\n",
      "\n",
      "Notes:\n",
      "[1] Standard Errors assume that the covariance matrix of the errors is correctly specified.\n"
     ]
    },
    {
     "name": "stderr",
     "output_type": "stream",
     "text": [
      "c:\\Users\\jakub\\AppData\\Local\\Programs\\Python\\Python310\\lib\\site-packages\\statsmodels\\base\\model.py:127: ValueWarning: unknown kwargs ['alpha']\n",
      "  warnings.warn(msg, ValueWarning)\n",
      "c:\\Users\\jakub\\AppData\\Local\\Programs\\Python\\Python310\\lib\\site-packages\\scipy\\stats\\_stats_py.py:1477: UserWarning: kurtosistest only valid for n>=20 ... continuing anyway, n=10\n",
      "  warnings.warn(\"kurtosistest only valid for n>=20 ... continuing \"\n"
     ]
    },
    {
     "data": {
      "text/plain": [
       "[<matplotlib.lines.Line2D at 0x2a0c3d670d0>]"
      ]
     },
     "execution_count": 13,
     "metadata": {},
     "output_type": "execute_result"
    },
    {
     "data": {
      "image/png": "[encoded data removed]",
      "text/plain": [
       "<Figure size 432x288 with 1 Axes>"
      ]
     },
     "metadata": {
      "needs_background": "light"
     },
     "output_type": "display_data"
    }
   ],
   "source": [
    "#Regresja\n",
    "# Wyiczanie regresji:\n",
    "# H0: Nie ma liniowej zależności między zmiennymi\n",
    "# H1: Jest liniowa zależność miedzy zmiennymi\n",
    "x=[2.16, 3.34, 2.85, 3.03, 3.26, 3.27, 3.32, 3.51, 3.64, 3.81]\n",
    "y=[1.67, 1.69, 1.70, 1.72, 1.71, 1.74, 1.73, 1.74, 1.74, 1.75]\n",
    "plt.scatter(x,y)\n",
    "x = sm.add_constant(x) #stworzenie zmiennej\n",
    "model = sm.OLS(y, x, alpha=0.05).fit() # stwórz dopwasowanie\n",
    "print(model.summary()) # pokaż wyniki\n",
    "# x1->a const->b\n",
    "# y = ax+b\n",
    "# ODP: Parametry a i b są istotne statystycznie, wiec odrzucamy H0 i przyjmujemy H1\n",
    "# R-squared-współczynnik determinacji\n",
    "x=[2.16, 3.34, 2.85, 3.03, 3.26, 3.27, 3.32, 3.51, 3.64, 3.81]\n",
    "y=[1.67, 1.69, 1.70, 1.72, 1.71, 1.74, 1.73, 1.74, 1.74, 1.75]\n",
    "for i in range(len(y)):\n",
    "    y[i] = model.params[1]*x[i] + model.params[0]\n",
    "plt.plot(x,y)\n"
   ]
  },
  {
   "cell_type": "code",
   "execution_count": 14,
   "metadata": {},
   "outputs": [
    {
     "name": "stdout",
     "output_type": "stream",
     "text": [
      "          n     r         CI95%  p-val       BF10  power\n",
      "pearson  17  0.96  [0.88, 0.98]    0.0  3.098e+06    1.0\n",
      "           n    r       CI95%  p-val  power\n",
      "spearman  17  1.0  [1.0, 1.0]    0.0      1\n"
     ]
    },
    {
     "data": {
      "image/png": "[encoded data removed]",
      "text/plain": [
       "<Figure size 360x360 with 6 Axes>"
      ]
     },
     "metadata": {
      "needs_background": "light"
     },
     "output_type": "display_data"
    }
   ],
   "source": [
    "#KOrealcja:\n",
    "# H0: r = 0, nie ma korrelacji miedzy zmiennymi\n",
    "# H1: istnieje związek miedzy zmiennymi\n",
    "f =  [100,\t125,\t160,\t200,\t250,\t315,\t400,\t500,\t630,\t800,\t1000,\t1250,\t1600,\t2000,\t2500,\t3150,\t4000]\n",
    "alpha =  [0.05,\t0.1,\t0.12,\t0.15,\t0.18,\t0.2,\t0.21,\t0.23,\t0.27,\t0.3,\t0.4,\t0.55,\t0.65,\t0.75,\t0.83,\t0.85,\t0.9]\n",
    "\n",
    "\n",
    "n = len(f)\n",
    "df = {'f':f, 'alpha':alpha}\n",
    "df1 = pd.DataFrame(data = df)\n",
    "sns.pairplot(df1)\n",
    "cor = pg.corr(df1['f'], df1['alpha'], method='pearson', alternative='two-sided').round(2)\n",
    "r = cor['r']\n",
    "print(cor)\n",
    "cor = pg.corr(df1['f'], df1['alpha'], method='spearman', alternative='two-sided').round(2)\n",
    "print(cor)\n",
    "# r -> wspólczynnik korelacji\n",
    "# ODP: Odrzucamy H0 i przyjmujemy H1\n"
   ]
  },
  {
   "cell_type": "code",
   "execution_count": 15,
   "metadata": {},
   "outputs": [
    {
     "name": "stdout",
     "output_type": "stream",
     "text": [
      "pearson    0.997268\n",
      "Name: r, dtype: float64 pearson    0.922732\n",
      "Name: r, dtype: float64\n"
     ]
    }
   ],
   "source": [
    "#Estymacja przedziałowa dla pearsona:\n",
    "lista = [r - stats.norm.ppf(0.05/2)*((1-r**2)/np.sqrt(n)), r + stats.norm.ppf(0.05/2)*((1-r**2)/np.sqrt(n))]\n",
    "print(lista[0], lista[1])\n",
    "# estymacja przedzialowa pearsona: [0.922, 0.997]"
   ]
  },
  {
   "cell_type": "code",
   "execution_count": 16,
   "metadata": {},
   "outputs": [
    {
     "name": "stdout",
     "output_type": "stream",
     "text": [
      "col_0  A  B  C\n",
      "row_0         \n",
      "2.0    0  1  1\n",
      "3.0    2  2  1\n",
      "3.5    0  1  1\n",
      "4.0    1  2  1\n",
      "4.5    0  1  2\n",
      "5.0    0  2  1\n"
     ]
    },
    {
     "data": {
      "text/plain": [
       "(5.539153439153438,\n",
       " 0.8523830105143324,\n",
       " 10,\n",
       " array([[0.31578947, 0.94736842, 0.73684211],\n",
       "        [0.78947368, 2.36842105, 1.84210526],\n",
       "        [0.31578947, 0.94736842, 0.73684211],\n",
       "        [0.63157895, 1.89473684, 1.47368421],\n",
       "        [0.47368421, 1.42105263, 1.10526316],\n",
       "        [0.47368421, 1.42105263, 1.10526316]]))"
      ]
     },
     "execution_count": 16,
     "metadata": {},
     "output_type": "execute_result"
    }
   ],
   "source": [
    "#zależnośc stochastyczna:\n",
    "# H0: Cechy są niezależne stochastycznie\n",
    "# H1: Cechy są zależne\n",
    "grupa = ['B', 'C', 'B', 'A', 'C', 'B', 'B', 'B', 'C', 'B', 'C', 'B', 'B', 'A', 'A', 'C', 'C', 'B', 'C']\n",
    "wynik = [4,\t5,\t5,\t3,\t4.5,\t4,\t5,\t2,\t3.5,\t3.5,\t3,\t3,\t4.5,\t4,\t3,\t4,\t4.5,\t3,\t2]\n",
    "data = pd.DataFrame({'grupa':grupa, 'wynik':wynik})\n",
    "crosstab = pd.crosstab(wynik, grupa)\n",
    "print(crosstab)\n",
    "stats.chi2_contingency(crosstab)\n",
    "# stat, p-value, stopnie swobody\n",
    "# ODP: p>alpha -> nie ma powodu, by odrzucić H0. Możemy uznac, że zmienne są niezależne\n"
   ]
  },
  {
   "cell_type": "code",
   "execution_count": 50,
   "metadata": {},
   "outputs": [
    {
     "name": "stdout",
     "output_type": "stream",
     "text": [
      "20\n",
      "['Shapiro-Wilk Test: stat=0.927, p=0.137721']\n",
      "próba pochodzi z populacji o rozkładzie normalnym\n",
      "\n",
      "5.12885 0.2818501862692305\n",
      "przedzial sredniej: 4.996940052373865 5.260759947626135\n",
      "-2.1799668017633618\n",
      "przedzial var: 0.16946592144666475 0.045943504362799654\n",
      "0.07943952749999993\n",
      "blad wzgledny:  1.228806020782392\n"
     ]
    },
    {
     "data": {
      "text/plain": [
       "[<matplotlib.lines.Line2D at 0x2a0c7745780>]"
      ]
     },
     "execution_count": 50,
     "metadata": {},
     "output_type": "execute_result"
    },
    {
     "data": {
      "image/png": "[encoded data removed]",
      "text/plain": [
       "<Figure size 432x288 with 1 Axes>"
      ]
     },
     "metadata": {
      "needs_background": "light"
     },
     "output_type": "display_data"
    }
   ],
   "source": [
    "# Estymacja:\n",
    "from scipy.stats import shapiro\n",
    "czas = [5.241,\t4.955,\t5.055,\t5.201,\t5.009,\t4.569,\t5.137,\t5.194,\t5.354,\t5.489,\t5.401,\t5.167,\t5.102,\t5.126,\t4.801,\t4.392,\t5.24,\t5.2,\t5.325,\t5.619]\n",
    "n = len(czas)\n",
    "print(n)\n",
    "data = np.array(czas)\n",
    "alpha = 0.05\n",
    "# n<30\n",
    "# sprawdzamy normalność\n",
    "stat, p =shapiro(data)\n",
    "print(['Shapiro-Wilk Test: stat=%.3f, p=%3f' %(stat,p)]) \n",
    "if p>alpha: print('próba pochodzi z populacji o rozkładzie normalnym\\n') \n",
    "else: print('próba nie pochodzi z populacji o rozkładzie normalnym\\n')\n",
    "\n",
    "m = data.mean()\n",
    "s = data.std()\n",
    "var = data.var()\n",
    "print(m, s)\n",
    "przedział = [m-stats.t.ppf(1-alpha/2, n-1)*(s/np.sqrt(n)), m+stats.t.ppf(1-alpha/2, n-1)*(s/np.sqrt(n))]\n",
    "print('przedzial sredniej:',przedział[0], przedział[1])\n",
    "\n",
    "Bx = (stats.t.ppf(alpha, n-1)*s)/(m*np.sqrt(n-1))*100\n",
    "print(Bx)\n",
    "# |B|< 5 -> duża precyzja oszacowania\n",
    "\n",
    "# estymacja dla wariancji\n",
    "przedziałvar = [((n-1)*s**2)/stats.chi2.ppf(alpha/2, n-1), ((n-1)*s**2)/stats.chi2.ppf(1-alpha/2, n-1)]\n",
    "print('przedzial var:',przedziałvar[0], przedziałvar[1])\n",
    "print(var)\n",
    "\n",
    "# błąd względny średniej:\n",
    "d1 = s/np.sqrt(n)\n",
    "vx = d1/m*100\n",
    "print('blad wzgledny: ', vx)\n",
    "\n",
    "# Wizualizacja:\n",
    "yerror = s\n",
    "x_values = np.linspace(1,n,n)\n",
    "y_values = czas\n",
    "plt.errorbar(x=x_values, y=y_values, yerr=yerror)\n",
    "plt.plot([1, 20],[przedział[0], przedział[0]])\n",
    "plt.plot([1, 20],[przedział[1], przedział[1]])"
   ]
  }
 ],
 "metadata": {
  "interpreter": {
   "hash": "f0cf854484826becf69b9363a35f769a3f32573db803431254cc95fc20fb81b2"
  },
  "kernelspec": {
   "display_name": "Python 3.10.2 64-bit",
   "language": "python",
   "name": "python3"
  },
  "language_info": {
   "codemirror_mode": {
    "name": "ipython",
    "version": 3
   },
   "file_extension": ".py",
   "mimetype": "text/x-python",
   "name": "python",
   "nbconvert_exporter": "python",
   "pygments_lexer": "ipython3",
   "version": "3.10.2"
  },
  "orig_nbformat": 4
 },
 "nbformat": 4,
 "nbformat_minor": 2
}
